{
 "cells": [
  {
   "cell_type": "code",
   "execution_count": 1,
   "id": "582cd6d5",
   "metadata": {},
   "outputs": [],
   "source": [
    "import re\n",
    "import numpy as np\n",
    "import pandas as pd\n",
    "from sklearn.feature_extraction.text import TfidfVectorizer, CountVectorizer\n",
    "from sklearn.model_selection import train_test_split\n",
    "from sklearn.metrics import accuracy_score\n",
    "from sklearn.preprocessing import LabelEncoder\n",
    "from sklearn.svm import SVC"
   ]
  },
  {
   "cell_type": "code",
   "execution_count": 2,
   "id": "402f612d",
   "metadata": {},
   "outputs": [],
   "source": [
    "#Load Data\n",
    "df = pd.read_csv('prod_data.csv')\n",
    "\n",
    "# replace number \n",
    "df['text'] = [re.sub(r'\\d+', 'number',i) for i in df['text']]\n",
    "df['text'] = [re.sub(r'%', 'percentage',i) for i in df['text']]\n",
    "df['text'] = [re.sub(r'poly', 'poly poly',i) for i in df['text']]"
   ]
  },
  {
   "cell_type": "code",
   "execution_count": 3,
   "id": "53f5e454",
   "metadata": {},
   "outputs": [
    {
     "name": "stdout",
     "output_type": "stream",
     "text": [
      "Accuracy: 93.00%\n"
     ]
    }
   ],
   "source": [
    "#rbf\n",
    "tfidf = TfidfVectorizer(lowercase=True, stop_words='english', max_features=1000)\n",
    "X = tfidf.fit_transform(df['text'])\n",
    "le = LabelEncoder()\n",
    "y = le.fit_transform(df['verdict'])\n",
    "\n",
    "X_train, X_test, y_train, y_test = train_test_split(X, y, test_size=0.10, random_state=0)\n",
    "\n",
    "classifier = SVC(kernel='rbf')\n",
    "classifier.fit(X_train, y_train)\n",
    "\n",
    "y_pred = classifier.predict(X_test)\n",
    "accuracy = accuracy_score(y_test, y_pred)\n",
    "print(f'Accuracy: {accuracy * 100:.2f}%')"
   ]
  },
  {
   "cell_type": "code",
   "execution_count": 4,
   "id": "bbc12643",
   "metadata": {},
   "outputs": [
    {
     "name": "stdout",
     "output_type": "stream",
     "text": [
      "Predicted Class: 1\n"
     ]
    }
   ],
   "source": [
    "#testing code\n",
    "input_text_vectorized = tfidf.transform([\"Details: 100 % calfskin 75 % polyamide and 25 % elastane lining 100 % rubber sole\"])\n",
    "predicted_class_encoded = classifier.predict(input_text_vectorized)\n",
    "\n",
    "predicted_class_label = le.inverse_transform(predicted_class_encoded)\n",
    "\n",
    "print(f\"Predicted Class: {predicted_class_label[0]}\")"
   ]
  },
  {
   "cell_type": "code",
   "execution_count": 5,
   "id": "9d92ee3e",
   "metadata": {},
   "outputs": [
    {
     "name": "stdout",
     "output_type": "stream",
     "text": [
      "Accuracy: 87.00%\n"
     ]
    }
   ],
   "source": [
    "#linear\n",
    "vectorizer = CountVectorizer(lowercase=True, stop_words='english', max_features=1000)\n",
    "X = vectorizer.fit_transform(df['text'])\n",
    "\n",
    "le = LabelEncoder()\n",
    "y = le.fit_transform(df['verdict'])\n",
    "\n",
    "X_train, X_test, y_train, y_test = train_test_split(X, y, test_size=0.10, random_state=0)\n",
    "\n",
    "classifier = SVC(kernel='linear')\n",
    "classifier.fit(X_train, y_train)\n",
    "\n",
    "# Predict and evaluate\n",
    "y_pred = classifier.predict(X_test)\n",
    "accuracy = accuracy_score(y_test, y_pred)\n",
    "print(f'Accuracy: {accuracy * 100:.2f}%')"
   ]
  },
  {
   "cell_type": "code",
   "execution_count": 6,
   "id": "92e491ce",
   "metadata": {},
   "outputs": [
    {
     "name": "stdout",
     "output_type": "stream",
     "text": [
      "Predicted Class: 1\n"
     ]
    }
   ],
   "source": [
    "#testing code\n",
    "input_text_vectorized = vectorizer.transform([\"Details: 100 % calfskin 75 % polyamide and 25 % elastane lining 100 % rubber sole\"])\n",
    "predicted_class_encoded = classifier.predict(input_text_vectorized)\n",
    "\n",
    "predicted_class_label = le.inverse_transform(predicted_class_encoded)\n",
    "\n",
    "print(f\"Predicted Class: {predicted_class_label[0]}\")"
   ]
  },
  {
   "cell_type": "code",
   "execution_count": 7,
   "id": "9c5ad6bd",
   "metadata": {},
   "outputs": [
    {
     "name": "stdout",
     "output_type": "stream",
     "text": [
      "Accuracy: 90.00%\n"
     ]
    }
   ],
   "source": [
    "#poly\n",
    "tfidf = TfidfVectorizer(lowercase=True, stop_words='english', max_features=1000)\n",
    "X = tfidf.fit_transform(df['text'])\n",
    "\n",
    "le = LabelEncoder()\n",
    "y = le.fit_transform(df['verdict'])\n",
    "\n",
    "X_train, X_test, y_train, y_test = train_test_split(X, y, test_size=0.10, random_state=0)\n",
    "\n",
    "classifier = SVC(kernel='poly')\n",
    "classifier.fit(X_train, y_train)\n",
    "\n",
    "y_pred = classifier.predict(X_test)\n",
    "accuracy = accuracy_score(y_test, y_pred)\n",
    "print(f'Accuracy: {accuracy * 100:.2f}%')"
   ]
  },
  {
   "cell_type": "code",
   "execution_count": 8,
   "id": "80407933",
   "metadata": {},
   "outputs": [
    {
     "name": "stdout",
     "output_type": "stream",
     "text": [
      "Accuracy: 0.87\n"
     ]
    }
   ],
   "source": [
    "label_encoder = LabelEncoder()\n",
    "df['verdict'] = label_encoder.fit_transform(df['verdict'])\n",
    "\n",
    "X_train, X_test, y_train, y_test = train_test_split(df['text'], df['verdict'], test_size=0.1, random_state=0)\n",
    "\n",
    "count_vectorizer = CountVectorizer(max_features=1000, stop_words='english')\n",
    "X_train_bow = count_vectorizer.fit_transform(X_train)\n",
    "X_test_bow = count_vectorizer.transform(X_test)\n",
    "\n",
    "svm_model = SVC(kernel='linear', C=1.0)\n",
    "svm_model.fit(X_train_bow, y_train)\n",
    "\n",
    "y_pred = svm_model.predict(X_test_bow)\n",
    "accuracy = accuracy_score(y_test, y_pred)\n",
    "print(f\"Accuracy: {accuracy}\")"
   ]
  },
  {
   "cell_type": "code",
   "execution_count": 9,
   "id": "0d232d10",
   "metadata": {},
   "outputs": [
    {
     "name": "stdout",
     "output_type": "stream",
     "text": [
      "Accuracy: 0.92\n"
     ]
    }
   ],
   "source": [
    "label_encoder = LabelEncoder()\n",
    "df['verdict'] = label_encoder.fit_transform(df['verdict'])\n",
    "\n",
    "X_train, X_test, y_train, y_test = train_test_split(df['text'], df['verdict'], test_size=0.1, random_state=0)\n",
    "\n",
    "tfidf_vectorizer = TfidfVectorizer(max_features=5000, stop_words='english')\n",
    "X_train_tfidf = tfidf_vectorizer.fit_transform(X_train)\n",
    "X_test_tfidf = tfidf_vectorizer.transform(X_test)\n",
    "\n",
    "svm_model = SVC(kernel='linear', C=1.0)\n",
    "svm_model.fit(X_train_tfidf, y_train)\n",
    "\n",
    "y_pred = svm_model.predict(X_test_tfidf)\n",
    "\n",
    "accuracy = accuracy_score(y_test, y_pred)\n",
    "print(f\"Accuracy: {accuracy}\")"
   ]
  },
  {
   "cell_type": "code",
   "execution_count": null,
   "id": "f467fcc8",
   "metadata": {},
   "outputs": [],
   "source": []
  }
 ],
 "metadata": {
  "kernelspec": {
   "display_name": "Python 3 (ipykernel)",
   "language": "python",
   "name": "python3"
  },
  "language_info": {
   "codemirror_mode": {
    "name": "ipython",
    "version": 3
   },
   "file_extension": ".py",
   "mimetype": "text/x-python",
   "name": "python",
   "nbconvert_exporter": "python",
   "pygments_lexer": "ipython3",
   "version": "3.11.4"
  }
 },
 "nbformat": 4,
 "nbformat_minor": 5
}
